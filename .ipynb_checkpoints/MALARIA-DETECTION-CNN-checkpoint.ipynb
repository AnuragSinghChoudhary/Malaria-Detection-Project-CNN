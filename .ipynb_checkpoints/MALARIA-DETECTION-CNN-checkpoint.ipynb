{
 "cells": [
  {
   "cell_type": "markdown",
   "id": "81714e85",
   "metadata": {},
   "source": [
    "### Creating CNN Using Scratch And Transfer Learning"
   ]
  },
  {
   "cell_type": "code",
   "execution_count": 3,
   "id": "67a39303",
   "metadata": {},
   "outputs": [],
   "source": [
    "# import the libraries as shown below\n",
    "\n",
    "from tensorflow.keras.layers import Input, Lambda, Dense, Flatten,Conv2D\n",
    "from tensorflow.keras.models import Model\n",
    "from tensorflow.keras.applications.vgg19 import VGG19\n",
    "from tensorflow.keras.applications.resnet50 import preprocess_input\n",
    "from tensorflow.keras.preprocessing import image\n",
    "from tensorflow.keras.preprocessing.image import ImageDataGenerator,load_img\n",
    "from tensorflow.keras.models import Sequential\n",
    "import numpy as np\n",
    "from glob import glob\n",
    "import matplotlib.pyplot as plt"
   ]
  },
  {
   "cell_type": "code",
   "execution_count": 2,
   "id": "a3b605d9",
   "metadata": {},
   "outputs": [
    {
     "name": "stdout",
     "output_type": "stream",
     "text": [
      "2.9.1\n"
     ]
    }
   ],
   "source": [
    "import tensorflow as tf\n",
    "print(tf.__version__)"
   ]
  },
  {
   "cell_type": "code",
   "execution_count": 4,
   "id": "b70ee759",
   "metadata": {},
   "outputs": [],
   "source": [
    "# re-size all the images to this\n",
    "IMAGE_SIZE = [224, 224]\n",
    "\n",
    "train_path = 'Dataset/Train'\n",
    "valid_path = 'Dataset/Test'"
   ]
  },
  {
   "cell_type": "code",
   "execution_count": 5,
   "id": "99773205",
   "metadata": {},
   "outputs": [],
   "source": [
    "# Import the Vgg 16 library as shown below and add preprocessing layer to the front of VGG\n",
    "# Here we will be using imagenet weights\n",
    "\n",
    "vgg19 = VGG19(input_shape=IMAGE_SIZE + [3], weights='imagenet', include_top=False)"
   ]
  },
  {
   "cell_type": "code",
   "execution_count": 6,
   "id": "18854cd1",
   "metadata": {},
   "outputs": [
    {
     "name": "stdout",
     "output_type": "stream",
     "text": [
      "Model: \"vgg19\"\n",
      "_________________________________________________________________\n",
      " Layer (type)                Output Shape              Param #   \n",
      "=================================================================\n",
      " input_1 (InputLayer)        [(None, 224, 224, 3)]     0         \n",
      "                                                                 \n",
      " block1_conv1 (Conv2D)       (None, 224, 224, 64)      1792      \n",
      "                                                                 \n",
      " block1_conv2 (Conv2D)       (None, 224, 224, 64)      36928     \n",
      "                                                                 \n",
      " block1_pool (MaxPooling2D)  (None, 112, 112, 64)      0         \n",
      "                                                                 \n",
      " block2_conv1 (Conv2D)       (None, 112, 112, 128)     73856     \n",
      "                                                                 \n",
      " block2_conv2 (Conv2D)       (None, 112, 112, 128)     147584    \n",
      "                                                                 \n",
      " block2_pool (MaxPooling2D)  (None, 56, 56, 128)       0         \n",
      "                                                                 \n",
      " block3_conv1 (Conv2D)       (None, 56, 56, 256)       295168    \n",
      "                                                                 \n",
      " block3_conv2 (Conv2D)       (None, 56, 56, 256)       590080    \n",
      "                                                                 \n",
      " block3_conv3 (Conv2D)       (None, 56, 56, 256)       590080    \n",
      "                                                                 \n",
      " block3_conv4 (Conv2D)       (None, 56, 56, 256)       590080    \n",
      "                                                                 \n",
      " block3_pool (MaxPooling2D)  (None, 28, 28, 256)       0         \n",
      "                                                                 \n",
      " block4_conv1 (Conv2D)       (None, 28, 28, 512)       1180160   \n",
      "                                                                 \n",
      " block4_conv2 (Conv2D)       (None, 28, 28, 512)       2359808   \n",
      "                                                                 \n",
      " block4_conv3 (Conv2D)       (None, 28, 28, 512)       2359808   \n",
      "                                                                 \n",
      " block4_conv4 (Conv2D)       (None, 28, 28, 512)       2359808   \n",
      "                                                                 \n",
      " block4_pool (MaxPooling2D)  (None, 14, 14, 512)       0         \n",
      "                                                                 \n",
      " block5_conv1 (Conv2D)       (None, 14, 14, 512)       2359808   \n",
      "                                                                 \n",
      " block5_conv2 (Conv2D)       (None, 14, 14, 512)       2359808   \n",
      "                                                                 \n",
      " block5_conv3 (Conv2D)       (None, 14, 14, 512)       2359808   \n",
      "                                                                 \n",
      " block5_conv4 (Conv2D)       (None, 14, 14, 512)       2359808   \n",
      "                                                                 \n",
      " block5_pool (MaxPooling2D)  (None, 7, 7, 512)         0         \n",
      "                                                                 \n",
      "=================================================================\n",
      "Total params: 20,024,384\n",
      "Trainable params: 20,024,384\n",
      "Non-trainable params: 0\n",
      "_________________________________________________________________\n"
     ]
    }
   ],
   "source": [
    "vgg19.summary()"
   ]
  },
  {
   "cell_type": "code",
   "execution_count": 7,
   "id": "f37b304f",
   "metadata": {},
   "outputs": [],
   "source": [
    "# don't train existing weights\n",
    "for layer in vgg19.layers:\n",
    "    layer.trainable = False"
   ]
  },
  {
   "cell_type": "code",
   "execution_count": 8,
   "id": "3128c987",
   "metadata": {},
   "outputs": [],
   "source": [
    "# useful for getting number of output classes\n",
    "folders = glob('Dataset/Train/*')"
   ]
  },
  {
   "cell_type": "code",
   "execution_count": 9,
   "id": "602b10df",
   "metadata": {},
   "outputs": [
    {
     "data": {
      "text/plain": [
       "['Dataset/Train\\\\Parasite', 'Dataset/Train\\\\Uninfected']"
      ]
     },
     "execution_count": 9,
     "metadata": {},
     "output_type": "execute_result"
    }
   ],
   "source": [
    "folders"
   ]
  },
  {
   "cell_type": "code",
   "execution_count": 10,
   "id": "979363ae",
   "metadata": {},
   "outputs": [],
   "source": [
    "# our layers - you can add more if you want\n",
    "x = Flatten()(vgg19.output)"
   ]
  },
  {
   "cell_type": "code",
   "execution_count": 11,
   "id": "96b3374a",
   "metadata": {},
   "outputs": [],
   "source": [
    "prediction = Dense(len(folders), activation='softmax')(x)\n",
    "\n",
    "# create a model object\n",
    "model = Model(inputs=vgg19.input, outputs=prediction)"
   ]
  },
  {
   "cell_type": "code",
   "execution_count": 12,
   "id": "72e7ff69",
   "metadata": {},
   "outputs": [
    {
     "name": "stdout",
     "output_type": "stream",
     "text": [
      "Model: \"model\"\n",
      "_________________________________________________________________\n",
      " Layer (type)                Output Shape              Param #   \n",
      "=================================================================\n",
      " input_1 (InputLayer)        [(None, 224, 224, 3)]     0         \n",
      "                                                                 \n",
      " block1_conv1 (Conv2D)       (None, 224, 224, 64)      1792      \n",
      "                                                                 \n",
      " block1_conv2 (Conv2D)       (None, 224, 224, 64)      36928     \n",
      "                                                                 \n",
      " block1_pool (MaxPooling2D)  (None, 112, 112, 64)      0         \n",
      "                                                                 \n",
      " block2_conv1 (Conv2D)       (None, 112, 112, 128)     73856     \n",
      "                                                                 \n",
      " block2_conv2 (Conv2D)       (None, 112, 112, 128)     147584    \n",
      "                                                                 \n",
      " block2_pool (MaxPooling2D)  (None, 56, 56, 128)       0         \n",
      "                                                                 \n",
      " block3_conv1 (Conv2D)       (None, 56, 56, 256)       295168    \n",
      "                                                                 \n",
      " block3_conv2 (Conv2D)       (None, 56, 56, 256)       590080    \n",
      "                                                                 \n",
      " block3_conv3 (Conv2D)       (None, 56, 56, 256)       590080    \n",
      "                                                                 \n",
      " block3_conv4 (Conv2D)       (None, 56, 56, 256)       590080    \n",
      "                                                                 \n",
      " block3_pool (MaxPooling2D)  (None, 28, 28, 256)       0         \n",
      "                                                                 \n",
      " block4_conv1 (Conv2D)       (None, 28, 28, 512)       1180160   \n",
      "                                                                 \n",
      " block4_conv2 (Conv2D)       (None, 28, 28, 512)       2359808   \n",
      "                                                                 \n",
      " block4_conv3 (Conv2D)       (None, 28, 28, 512)       2359808   \n",
      "                                                                 \n",
      " block4_conv4 (Conv2D)       (None, 28, 28, 512)       2359808   \n",
      "                                                                 \n",
      " block4_pool (MaxPooling2D)  (None, 14, 14, 512)       0         \n",
      "                                                                 \n",
      " block5_conv1 (Conv2D)       (None, 14, 14, 512)       2359808   \n",
      "                                                                 \n",
      " block5_conv2 (Conv2D)       (None, 14, 14, 512)       2359808   \n",
      "                                                                 \n",
      " block5_conv3 (Conv2D)       (None, 14, 14, 512)       2359808   \n",
      "                                                                 \n",
      " block5_conv4 (Conv2D)       (None, 14, 14, 512)       2359808   \n",
      "                                                                 \n",
      " block5_pool (MaxPooling2D)  (None, 7, 7, 512)         0         \n",
      "                                                                 \n",
      " flatten (Flatten)           (None, 25088)             0         \n",
      "                                                                 \n",
      " dense (Dense)               (None, 2)                 50178     \n",
      "                                                                 \n",
      "=================================================================\n",
      "Total params: 20,074,562\n",
      "Trainable params: 50,178\n",
      "Non-trainable params: 20,024,384\n",
      "_________________________________________________________________\n"
     ]
    }
   ],
   "source": [
    "# view the structure of the model\n",
    "model.summary()"
   ]
  },
  {
   "cell_type": "code",
   "execution_count": 13,
   "id": "7823fe05",
   "metadata": {},
   "outputs": [],
   "source": [
    "from tensorflow.keras.layers import MaxPooling2D"
   ]
  },
  {
   "cell_type": "code",
   "execution_count": 14,
   "id": "4c20d470",
   "metadata": {},
   "outputs": [
    {
     "name": "stdout",
     "output_type": "stream",
     "text": [
      "Model: \"sequential\"\n",
      "_________________________________________________________________\n",
      " Layer (type)                Output Shape              Param #   \n",
      "=================================================================\n",
      " conv2d (Conv2D)             (None, 224, 224, 16)      208       \n",
      "                                                                 \n",
      " max_pooling2d (MaxPooling2D  (None, 112, 112, 16)     0         \n",
      " )                                                               \n",
      "                                                                 \n",
      " conv2d_1 (Conv2D)           (None, 112, 112, 32)      2080      \n",
      "                                                                 \n",
      " max_pooling2d_1 (MaxPooling  (None, 56, 56, 32)       0         \n",
      " 2D)                                                             \n",
      "                                                                 \n",
      " conv2d_2 (Conv2D)           (None, 56, 56, 64)        8256      \n",
      "                                                                 \n",
      " max_pooling2d_2 (MaxPooling  (None, 28, 28, 64)       0         \n",
      " 2D)                                                             \n",
      "                                                                 \n",
      " flatten_1 (Flatten)         (None, 50176)             0         \n",
      "                                                                 \n",
      " dense_1 (Dense)             (None, 500)               25088500  \n",
      "                                                                 \n",
      " dense_2 (Dense)             (None, 2)                 1002      \n",
      "                                                                 \n",
      "=================================================================\n",
      "Total params: 25,100,046\n",
      "Trainable params: 25,100,046\n",
      "Non-trainable params: 0\n",
      "_________________________________________________________________\n"
     ]
    }
   ],
   "source": [
    "### Create Model from scratch using CNN\n",
    "model=Sequential()\n",
    "model.add(Conv2D(filters=16,kernel_size=2,padding=\"same\",activation=\"relu\",input_shape=(224,224,3)))\n",
    "model.add(MaxPooling2D(pool_size=2))\n",
    "model.add(Conv2D(filters=32,kernel_size=2,padding=\"same\",activation =\"relu\"))\n",
    "model.add(MaxPooling2D(pool_size=2))\n",
    "model.add(Conv2D(filters=64,kernel_size=2,padding=\"same\",activation=\"relu\"))\n",
    "model.add(MaxPooling2D(pool_size=2))\n",
    "model.add(Flatten())\n",
    "model.add(Dense(500,activation=\"relu\"))\n",
    "model.add(Dense(2,activation=\"softmax\"))\n",
    "model.summary()"
   ]
  },
  {
   "cell_type": "code",
   "execution_count": 15,
   "id": "bab3765d",
   "metadata": {},
   "outputs": [],
   "source": [
    "# tell the model what cost and optimization method to use\n",
    "model.compile(\n",
    "  loss='categorical_crossentropy',\n",
    "  optimizer='adam',\n",
    "  metrics=['accuracy']\n",
    ")"
   ]
  },
  {
   "cell_type": "code",
   "execution_count": 16,
   "id": "6575ead6",
   "metadata": {},
   "outputs": [],
   "source": [
    "# Use the Image Data Generator to import the images from the dataset\n",
    "from tensorflow.keras.preprocessing.image import ImageDataGenerator\n",
    "\n",
    "train_datagen = ImageDataGenerator(rescale = 1./255,\n",
    "                                   shear_range = 0.2,\n",
    "                                   zoom_range = 0.2,\n",
    "                                   horizontal_flip = True)\n",
    "\n",
    "test_datagen = ImageDataGenerator(rescale = 1./255)"
   ]
  },
  {
   "cell_type": "code",
   "execution_count": 17,
   "id": "1f713cfe",
   "metadata": {},
   "outputs": [
    {
     "name": "stdout",
     "output_type": "stream",
     "text": [
      "Found 416 images belonging to 2 classes.\n"
     ]
    }
   ],
   "source": [
    "# Make sure you provide the same target size as initialied for the image size\n",
    "training_set = train_datagen.flow_from_directory('Dataset/Train',\n",
    "                                                 target_size = (224, 224),\n",
    "                                                 batch_size = 32,\n",
    "                                                 class_mode = 'categorical')"
   ]
  },
  {
   "cell_type": "code",
   "execution_count": 18,
   "id": "c8563ffc",
   "metadata": {},
   "outputs": [
    {
     "data": {
      "text/plain": [
       "<keras.preprocessing.image.DirectoryIterator at 0x27095202f10>"
      ]
     },
     "execution_count": 18,
     "metadata": {},
     "output_type": "execute_result"
    }
   ],
   "source": [
    "training_set"
   ]
  },
  {
   "cell_type": "code",
   "execution_count": 19,
   "id": "b74dba88",
   "metadata": {},
   "outputs": [
    {
     "name": "stdout",
     "output_type": "stream",
     "text": [
      "Found 134 images belonging to 2 classes.\n"
     ]
    }
   ],
   "source": [
    "test_set = test_datagen.flow_from_directory('Dataset/Test',\n",
    "                                            target_size = (224, 224),\n",
    "                                            batch_size = 32,\n",
    "                                            class_mode = 'categorical')"
   ]
  },
  {
   "cell_type": "code",
   "execution_count": 20,
   "id": "88ae092e",
   "metadata": {},
   "outputs": [
    {
     "name": "stderr",
     "output_type": "stream",
     "text": [
      "C:\\Users\\ANURAG\\AppData\\Local\\Temp/ipykernel_21288/4008731854.py:3: UserWarning: `Model.fit_generator` is deprecated and will be removed in a future version. Please use `Model.fit`, which supports generators.\n",
      "  r = model.fit_generator(\n"
     ]
    },
    {
     "name": "stdout",
     "output_type": "stream",
     "text": [
      "Epoch 1/50\n",
      "13/13 [==============================] - 9s 622ms/step - loss: 1.8617 - accuracy: 0.5120 - val_loss: 0.6561 - val_accuracy: 0.6791\n",
      "Epoch 2/50\n",
      "13/13 [==============================] - 8s 590ms/step - loss: 0.6800 - accuracy: 0.5577 - val_loss: 0.6817 - val_accuracy: 0.5672\n",
      "Epoch 3/50\n",
      "13/13 [==============================] - 8s 588ms/step - loss: 0.6454 - accuracy: 0.6418 - val_loss: 0.8358 - val_accuracy: 0.3507\n",
      "Epoch 4/50\n",
      "13/13 [==============================] - 8s 602ms/step - loss: 0.5947 - accuracy: 0.6611 - val_loss: 0.6750 - val_accuracy: 0.6791\n",
      "Epoch 5/50\n",
      "13/13 [==============================] - 8s 633ms/step - loss: 0.5842 - accuracy: 0.6611 - val_loss: 0.6364 - val_accuracy: 0.6716\n",
      "Epoch 6/50\n",
      "13/13 [==============================] - 9s 648ms/step - loss: 0.5723 - accuracy: 0.7067 - val_loss: 0.6947 - val_accuracy: 0.5224\n",
      "Epoch 7/50\n",
      "13/13 [==============================] - 9s 648ms/step - loss: 0.4978 - accuracy: 0.7428 - val_loss: 0.7231 - val_accuracy: 0.5000\n",
      "Epoch 8/50\n",
      "13/13 [==============================] - 9s 666ms/step - loss: 0.5264 - accuracy: 0.7284 - val_loss: 0.7851 - val_accuracy: 0.4552\n",
      "Epoch 9/50\n",
      "13/13 [==============================] - 9s 652ms/step - loss: 0.4449 - accuracy: 0.8221 - val_loss: 1.1582 - val_accuracy: 0.3955\n",
      "Epoch 10/50\n",
      "13/13 [==============================] - 9s 649ms/step - loss: 0.3771 - accuracy: 0.8197 - val_loss: 0.7453 - val_accuracy: 0.5224\n",
      "Epoch 11/50\n",
      "13/13 [==============================] - 9s 650ms/step - loss: 0.3670 - accuracy: 0.8293 - val_loss: 0.6991 - val_accuracy: 0.5821\n",
      "Epoch 12/50\n",
      "13/13 [==============================] - 8s 638ms/step - loss: 0.3346 - accuracy: 0.8654 - val_loss: 0.6867 - val_accuracy: 0.6045\n",
      "Epoch 13/50\n",
      "13/13 [==============================] - 8s 643ms/step - loss: 0.2707 - accuracy: 0.8918 - val_loss: 0.7599 - val_accuracy: 0.5821\n",
      "Epoch 14/50\n",
      "13/13 [==============================] - 9s 666ms/step - loss: 0.2813 - accuracy: 0.8726 - val_loss: 0.9774 - val_accuracy: 0.5373\n",
      "Epoch 15/50\n",
      "13/13 [==============================] - 9s 680ms/step - loss: 0.3000 - accuracy: 0.8654 - val_loss: 0.9062 - val_accuracy: 0.5522\n",
      "Epoch 16/50\n",
      "13/13 [==============================] - 9s 668ms/step - loss: 0.2373 - accuracy: 0.9111 - val_loss: 0.6124 - val_accuracy: 0.6418\n",
      "Epoch 17/50\n",
      "13/13 [==============================] - 9s 649ms/step - loss: 0.2392 - accuracy: 0.9135 - val_loss: 0.7802 - val_accuracy: 0.6269\n",
      "Epoch 18/50\n",
      "13/13 [==============================] - 9s 652ms/step - loss: 0.2012 - accuracy: 0.9279 - val_loss: 0.8121 - val_accuracy: 0.6343\n",
      "Epoch 19/50\n",
      "13/13 [==============================] - 9s 681ms/step - loss: 0.2322 - accuracy: 0.9111 - val_loss: 1.3165 - val_accuracy: 0.5149\n",
      "Epoch 20/50\n",
      "13/13 [==============================] - 9s 680ms/step - loss: 0.2426 - accuracy: 0.8942 - val_loss: 0.7236 - val_accuracy: 0.6642\n",
      "Epoch 21/50\n",
      "13/13 [==============================] - 9s 678ms/step - loss: 0.2109 - accuracy: 0.9399 - val_loss: 0.4265 - val_accuracy: 0.8134\n",
      "Epoch 22/50\n",
      "13/13 [==============================] - 10s 725ms/step - loss: 0.1801 - accuracy: 0.9351 - val_loss: 0.3197 - val_accuracy: 0.8657\n",
      "Epoch 23/50\n",
      "13/13 [==============================] - 9s 658ms/step - loss: 0.1484 - accuracy: 0.9471 - val_loss: 0.2876 - val_accuracy: 0.8881\n",
      "Epoch 24/50\n",
      "13/13 [==============================] - 9s 657ms/step - loss: 0.1474 - accuracy: 0.9471 - val_loss: 0.3634 - val_accuracy: 0.8582\n",
      "Epoch 25/50\n",
      "13/13 [==============================] - 9s 663ms/step - loss: 0.1347 - accuracy: 0.9519 - val_loss: 0.5778 - val_accuracy: 0.7537\n",
      "Epoch 26/50\n",
      "13/13 [==============================] - 9s 665ms/step - loss: 0.1620 - accuracy: 0.9447 - val_loss: 0.5448 - val_accuracy: 0.7537\n",
      "Epoch 27/50\n",
      "13/13 [==============================] - 9s 663ms/step - loss: 0.1319 - accuracy: 0.9639 - val_loss: 0.3491 - val_accuracy: 0.8358\n",
      "Epoch 28/50\n",
      "13/13 [==============================] - 9s 653ms/step - loss: 0.1346 - accuracy: 0.9615 - val_loss: 0.2527 - val_accuracy: 0.8955\n",
      "Epoch 29/50\n",
      "13/13 [==============================] - 9s 652ms/step - loss: 0.1456 - accuracy: 0.9591 - val_loss: 0.3376 - val_accuracy: 0.8582\n",
      "Epoch 30/50\n",
      "13/13 [==============================] - 9s 663ms/step - loss: 0.1336 - accuracy: 0.9543 - val_loss: 0.5959 - val_accuracy: 0.7537\n",
      "Epoch 31/50\n",
      "13/13 [==============================] - 9s 680ms/step - loss: 0.1350 - accuracy: 0.9615 - val_loss: 0.3231 - val_accuracy: 0.8582\n",
      "Epoch 32/50\n",
      "13/13 [==============================] - 9s 716ms/step - loss: 0.0951 - accuracy: 0.9712 - val_loss: 0.2644 - val_accuracy: 0.8955\n",
      "Epoch 33/50\n",
      "13/13 [==============================] - 9s 672ms/step - loss: 0.0977 - accuracy: 0.9688 - val_loss: 0.2853 - val_accuracy: 0.8657\n",
      "Epoch 34/50\n",
      "13/13 [==============================] - 9s 657ms/step - loss: 0.0736 - accuracy: 0.9712 - val_loss: 0.2507 - val_accuracy: 0.8955\n",
      "Epoch 35/50\n",
      "13/13 [==============================] - 9s 671ms/step - loss: 0.0750 - accuracy: 0.9591 - val_loss: 0.2203 - val_accuracy: 0.9030\n",
      "Epoch 36/50\n",
      "13/13 [==============================] - 9s 677ms/step - loss: 0.0576 - accuracy: 0.9808 - val_loss: 0.3955 - val_accuracy: 0.8507\n",
      "Epoch 37/50\n",
      "13/13 [==============================] - 9s 670ms/step - loss: 0.0691 - accuracy: 0.9832 - val_loss: 0.1924 - val_accuracy: 0.9104\n",
      "Epoch 38/50\n",
      "13/13 [==============================] - 9s 683ms/step - loss: 0.0583 - accuracy: 0.9760 - val_loss: 0.2904 - val_accuracy: 0.8881\n",
      "Epoch 39/50\n",
      "13/13 [==============================] - 9s 680ms/step - loss: 0.0702 - accuracy: 0.9880 - val_loss: 0.2642 - val_accuracy: 0.8955\n",
      "Epoch 40/50\n",
      "13/13 [==============================] - 9s 673ms/step - loss: 0.1255 - accuracy: 0.9495 - val_loss: 0.3620 - val_accuracy: 0.8582\n",
      "Epoch 41/50\n",
      "13/13 [==============================] - 9s 676ms/step - loss: 0.0818 - accuracy: 0.9760 - val_loss: 0.2751 - val_accuracy: 0.8955\n",
      "Epoch 42/50\n",
      "13/13 [==============================] - 9s 687ms/step - loss: 0.0798 - accuracy: 0.9760 - val_loss: 0.5194 - val_accuracy: 0.8284\n",
      "Epoch 43/50\n",
      "13/13 [==============================] - 9s 689ms/step - loss: 0.0607 - accuracy: 0.9808 - val_loss: 0.1922 - val_accuracy: 0.9179\n",
      "Epoch 44/50\n",
      "13/13 [==============================] - 9s 681ms/step - loss: 0.0582 - accuracy: 0.9832 - val_loss: 0.3815 - val_accuracy: 0.8806\n",
      "Epoch 45/50\n",
      "13/13 [==============================] - 10s 756ms/step - loss: 0.0373 - accuracy: 0.9904 - val_loss: 0.2358 - val_accuracy: 0.9030\n",
      "Epoch 46/50\n",
      "13/13 [==============================] - 9s 717ms/step - loss: 0.0515 - accuracy: 0.9856 - val_loss: 0.2252 - val_accuracy: 0.9030\n",
      "Epoch 47/50\n",
      "13/13 [==============================] - 9s 659ms/step - loss: 0.0540 - accuracy: 0.9736 - val_loss: 0.2057 - val_accuracy: 0.9254\n",
      "Epoch 48/50\n",
      "13/13 [==============================] - 9s 670ms/step - loss: 0.0394 - accuracy: 0.9904 - val_loss: 0.2212 - val_accuracy: 0.9104\n",
      "Epoch 49/50\n",
      "13/13 [==============================] - 9s 668ms/step - loss: 0.0565 - accuracy: 0.9832 - val_loss: 0.4713 - val_accuracy: 0.8507\n",
      "Epoch 50/50\n",
      "13/13 [==============================] - 9s 679ms/step - loss: 0.0669 - accuracy: 0.9784 - val_loss: 0.2949 - val_accuracy: 0.8657\n"
     ]
    }
   ],
   "source": [
    "\n",
    "# fit the model\n",
    "# Run the cell. It will take some time to execute\n",
    "r = model.fit_generator(\n",
    "  training_set,\n",
    "  validation_data=test_set,\n",
    "  epochs=50,\n",
    "  steps_per_epoch=len(training_set),\n",
    "  validation_steps=len(test_set)\n",
    ")"
   ]
  },
  {
   "cell_type": "code",
   "execution_count": 21,
   "id": "d33eb6e7",
   "metadata": {},
   "outputs": [
    {
     "data": {
      "image/png": "[encoded data removed]",
      "text/plain": [
       "<Figure size 432x288 with 1 Axes>"
      ]
     },
     "metadata": {
      "needs_background": "light"
     },
     "output_type": "display_data"
    },
    {
     "data": {
      "image/png": "[encoded data removed]",
      "text/plain": [
       "<Figure size 432x288 with 1 Axes>"
      ]
     },
     "metadata": {
      "needs_background": "light"
     },
     "output_type": "display_data"
    },
    {
     "data": {
      "text/plain": [
       "<Figure size 432x288 with 0 Axes>"
      ]
     },
     "metadata": {},
     "output_type": "display_data"
    }
   ],
   "source": [
    "# plot the loss\n",
    "plt.plot(r.history['loss'], label='train loss')\n",
    "plt.plot(r.history['val_loss'], label='val loss')\n",
    "plt.legend()\n",
    "plt.show()\n",
    "plt.savefig('LossVal_loss')\n",
    "\n",
    "# plot the accuracy\n",
    "plt.plot(r.history['accuracy'], label='train acc')\n",
    "plt.plot(r.history['val_accuracy'], label='val acc')\n",
    "plt.legend()\n",
    "plt.show()\n",
    "plt.savefig('AccVal_acc')"
   ]
  },
  {
   "cell_type": "code",
   "execution_count": 22,
   "id": "8ba8cf77",
   "metadata": {},
   "outputs": [],
   "source": [
    "# save it as a h5 file\n",
    "\n",
    "\n",
    "from tensorflow.keras.models import load_model\n",
    "\n",
    "model.save('model_vgg19.h5')"
   ]
  },
  {
   "cell_type": "code",
   "execution_count": 23,
   "id": "387490e1",
   "metadata": {},
   "outputs": [
    {
     "name": "stdout",
     "output_type": "stream",
     "text": [
      "5/5 [==============================] - 1s 83ms/step\n"
     ]
    }
   ],
   "source": [
    "y_pred = model.predict(test_set)"
   ]
  },
  {
   "cell_type": "code",
   "execution_count": 24,
   "id": "d1149713",
   "metadata": {},
   "outputs": [],
   "source": [
    "from tensorflow.keras.models import load_model\n",
    "from tensorflow.keras.preprocessing import image"
   ]
  },
  {
   "cell_type": "code",
   "execution_count": 25,
   "id": "13c6a63e",
   "metadata": {},
   "outputs": [],
   "source": [
    "model=load_model('model_vgg19.h5')"
   ]
  },
  {
   "cell_type": "code",
   "execution_count": 26,
   "id": "8ab387fd",
   "metadata": {},
   "outputs": [],
   "source": [
    "img=image.load_img('Dataset/Test/Uninfected/2.png',target_size=(224,224))"
   ]
  },
  {
   "cell_type": "code",
   "execution_count": 27,
   "id": "cc9151b8",
   "metadata": {},
   "outputs": [
    {
     "data": {
      "text/plain": [
       "array([[[0., 0., 0.],\n",
       "        [0., 0., 0.],\n",
       "        [0., 0., 0.],\n",
       "        ...,\n",
       "        [0., 0., 0.],\n",
       "        [0., 0., 0.],\n",
       "        [0., 0., 0.]],\n",
       "\n",
       "       [[0., 0., 0.],\n",
       "        [0., 0., 0.],\n",
       "        [0., 0., 0.],\n",
       "        ...,\n",
       "        [0., 0., 0.],\n",
       "        [0., 0., 0.],\n",
       "        [0., 0., 0.]],\n",
       "\n",
       "       [[0., 0., 0.],\n",
       "        [0., 0., 0.],\n",
       "        [0., 0., 0.],\n",
       "        ...,\n",
       "        [0., 0., 0.],\n",
       "        [0., 0., 0.],\n",
       "        [0., 0., 0.]],\n",
       "\n",
       "       ...,\n",
       "\n",
       "       [[0., 0., 0.],\n",
       "        [0., 0., 0.],\n",
       "        [0., 0., 0.],\n",
       "        ...,\n",
       "        [0., 0., 0.],\n",
       "        [0., 0., 0.],\n",
       "        [0., 0., 0.]],\n",
       "\n",
       "       [[0., 0., 0.],\n",
       "        [0., 0., 0.],\n",
       "        [0., 0., 0.],\n",
       "        ...,\n",
       "        [0., 0., 0.],\n",
       "        [0., 0., 0.],\n",
       "        [0., 0., 0.]],\n",
       "\n",
       "       [[0., 0., 0.],\n",
       "        [0., 0., 0.],\n",
       "        [0., 0., 0.],\n",
       "        ...,\n",
       "        [0., 0., 0.],\n",
       "        [0., 0., 0.],\n",
       "        [0., 0., 0.]]], dtype=float32)"
      ]
     },
     "execution_count": 27,
     "metadata": {},
     "output_type": "execute_result"
    }
   ],
   "source": [
    "x=image.img_to_array(img)\n",
    "x"
   ]
  },
  {
   "cell_type": "code",
   "execution_count": 28,
   "id": "fbdb6987",
   "metadata": {},
   "outputs": [
    {
     "data": {
      "text/plain": [
       "(224, 224, 3)"
      ]
     },
     "execution_count": 28,
     "metadata": {},
     "output_type": "execute_result"
    }
   ],
   "source": [
    "x.shape"
   ]
  },
  {
   "cell_type": "code",
   "execution_count": 29,
   "id": "af2ec4e3",
   "metadata": {},
   "outputs": [],
   "source": [
    "x=x/255"
   ]
  },
  {
   "cell_type": "code",
   "execution_count": 30,
   "id": "b1e93933",
   "metadata": {},
   "outputs": [
    {
     "data": {
      "text/plain": [
       "(1, 224, 224, 3)"
      ]
     },
     "execution_count": 30,
     "metadata": {},
     "output_type": "execute_result"
    }
   ],
   "source": [
    "x=np.expand_dims(x,axis=0)\n",
    "img_data=preprocess_input(x)\n",
    "img_data.shape"
   ]
  },
  {
   "cell_type": "code",
   "execution_count": 31,
   "id": "bedc9748",
   "metadata": {},
   "outputs": [
    {
     "name": "stdout",
     "output_type": "stream",
     "text": [
      "1/1 [==============================] - 0s 88ms/step\n"
     ]
    },
    {
     "data": {
      "text/plain": [
       "array([[1., 0.]], dtype=float32)"
      ]
     },
     "execution_count": 31,
     "metadata": {},
     "output_type": "execute_result"
    }
   ],
   "source": [
    "model.predict(img_data)"
   ]
  },
  {
   "cell_type": "code",
   "execution_count": 32,
   "id": "063303df",
   "metadata": {},
   "outputs": [
    {
     "name": "stdout",
     "output_type": "stream",
     "text": [
      "1/1 [==============================] - 0s 31ms/step\n"
     ]
    }
   ],
   "source": [
    "a=np.argmax(model.predict(img_data), axis=1)"
   ]
  },
  {
   "cell_type": "code",
   "execution_count": 33,
   "id": "90a81494",
   "metadata": {},
   "outputs": [
    {
     "name": "stdout",
     "output_type": "stream",
     "text": [
      "Infected\n"
     ]
    }
   ],
   "source": [
    "if(a==1):\n",
    "    print(\"Uninfected\")\n",
    "else:\n",
    "    print(\"Infected\")"
   ]
  },
  {
   "cell_type": "code",
   "execution_count": null,
   "id": "9f9c1a91",
   "metadata": {},
   "outputs": [],
   "source": []
  }
 ],
 "metadata": {
  "kernelspec": {
   "display_name": "Python 3 (ipykernel)",
   "language": "python",
   "name": "python3"
  },
  "language_info": {
   "codemirror_mode": {
    "name": "ipython",
    "version": 3
   },
   "file_extension": ".py",
   "mimetype": "text/x-python",
   "name": "python",
   "nbconvert_exporter": "python",
   "pygments_lexer": "ipython3",
   "version": "3.9.7"
  }
 },
 "nbformat": 4,
 "nbformat_minor": 5
}
